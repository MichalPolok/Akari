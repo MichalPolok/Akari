{
  "nbformat": 4,
  "nbformat_minor": 0,
  "metadata": {
    "colab": {
      "name": "Akari.ipynb",
      "provenance": [],
      "collapsed_sections": []
    },
    "kernelspec": {
      "name": "python3",
      "display_name": "Python 3"
    },
    "language_info": {
      "name": "python"
    }
  },
  "cells": [
    {
      "cell_type": "markdown",
      "metadata": {
        "id": "PjNxBRi9C5y8"
      },
      "source": [
        "# **Akari solver**\n",
        "\n",
        "**After wikipedia:** https://en.wikipedia.org/wiki/Light_Up_(puzzle)\n",
        "\n",
        "Light Up (Japanese: 美術館 bijutsukan, art gallery), also called Akari, is a binary-determination logic puzzle published by Nikoli. As of 2011, three books consisting entirely of Light Up puzzles have been published by Nikoli.\n",
        "\n",
        "**Rules**\n",
        "\n",
        "Light Up is played on a rectangular grid of white and black cells. The player places light bulbs in white cells such that no two bulbs shine on each other, until the entire grid is lit up. A bulb sends rays of light horizontally and vertically, illuminating its entire row and column unless its light is blocked by a black cell. A black cell may have a number on it from 0 to 4, indicating how many bulbs must be placed adjacent to its four sides; for example, a cell with a 4 must have four bulbs around it, one on each side, and a cell with a 0 cannot have a bulb next to any of its sides. An unnumbered black cell may have any number of light bulbs adjacent to it, or none. Bulbs placed diagonally adjacent to a numbered cell do not contribute to the bulb count.\n",
        "\n",
        "**Example board (hard):**\n",
        "\n",
        "![hardest.png](data:image/png;base64,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)"
      ]
    },
    {
      "cell_type": "code",
      "metadata": {
        "id": "SwPVHCscASEV"
      },
      "source": [
        "# imports\n",
        "from itertools import combinations, chain, product\n",
        "import numpy as np\n",
        "import copy\n",
        "from PIL import Image, ImageDraw, ImageFont"
      ],
      "execution_count": null,
      "outputs": []
    },
    {
      "cell_type": "code",
      "metadata": {
        "id": "jRHzf54RAWo8"
      },
      "source": [
        "# Example game board converted to an array\n",
        "\n",
        "# field with restrictions around it = 0, 1, 2, 3, 4\n",
        "# blck neutral field = 5\n",
        "# empty field = 6\n",
        "# field with a dot (light bulb) = 7\n",
        "# field shaded by the dot = 8\n",
        "# blocked field (cannot have a dot, but its not shaded) = 9\n",
        "\n",
        "example = [[6, 6, 6, 6, 1, 6, 1, 6, 6, 6, 6, 0, 6, 6, 6, 6, 0],\n",
        "           [6, 0, 6, 6, 6, 6, 6, 6, 6, 2, 6, 6, 6, 6, 6, 6, 6], \n",
        "           [6, 6, 6, 6, 6, 1, 6, 6, 6, 6, 6, 6, 0, 6, 6, 1, 6], \n",
        "           [6, 6, 6, 0, 6, 6, 6, 2, 6, 6, 6, 6, 6, 6, 6, 6, 6], \n",
        "           [1, 6, 6, 6, 6, 6, 6, 6, 6, 6, 2, 6, 6, 1, 6, 6, 6], \n",
        "           [6, 6, 1, 6, 6, 6, 6, 6, 1, 6, 6, 6, 6, 6, 6, 6, 6], \n",
        "           [2, 6, 6, 6, 6, 6, 6, 6, 6, 6, 2, 6, 6, 6, 0, 6, 6], \n",
        "           [6, 6, 6, 1, 6, 6, 6, 1, 6, 6, 6, 6, 6, 6, 6, 6, 6], \n",
        "           [6, 6, 6, 6, 6, 1, 6, 6, 6, 6, 6, 6, 6, 6, 6, 2, 6],\n",
        "           [6, 0, 6, 6, 6, 6, 6, 6, 6, 2, 6, 6, 6, 0, 6, 6, 6], \n",
        "           [6, 6, 6, 6, 1, 6, 1, 6, 6, 6, 6, 6, 6, 6, 6, 6, 6], \n",
        "           [1, 6, 6, 6, 6, 6, 6, 6, 6, 6, 6, 2, 6, 6, 6, 6, 0],\n",
        "           [6, 6, 6, 0, 6, 6, 6, 2, 6, 6, 6, 6, 6, 6, 6, 6, 6], \n",
        "           [5, 6, 6, 6, 6, 6, 6, 6, 6, 6, 6, 6, 6, 2, 6, 6, 6], \n",
        "           [6, 6, 5, 6, 6, 6, 6, 6, 5, 6, 6, 6, 6, 6, 6, 6, 6], \n",
        "           [6, 6, 6, 6, 6, 2, 6, 6, 6, 6, 6, 1, 6, 6, 6, 5, 6], \n",
        "           [6, 0, 6, 6, 6, 6, 6, 6, 6, 1, 6, 6, 6, 6, 6, 6, 6]]\n",
        "\n",
        "# coverted to numpy array\n",
        "example = np.asarray(example)"
      ],
      "execution_count": null,
      "outputs": []
    },
    {
      "cell_type": "code",
      "metadata": {
        "id": "3u54E4lVm4g_"
      },
      "source": [
        "def paint_result(brd):\n",
        "  ''' Creates a graphical representation of the final result '''\n",
        "\n",
        "  # Create an empty canvas\n",
        "  canvas = Image.new('RGB', \n",
        "                     (1+brd.shape[0]*21, \n",
        "                      1+brd.shape[1]*21),\n",
        "                     'black')\n",
        "\n",
        "  # Paste patches based on the input array\n",
        "  for row in range(len(brd)):\n",
        "      for col in range(len(brd[row])):\n",
        "        \n",
        "        if brd[row][col] in [0, 1, 2, 3, 4]:\n",
        "          text = str(brd[row][col])\n",
        "          im = Image.new(\"RGB\",(20,20),\"black\")\n",
        "          draw = ImageDraw.Draw(im)\n",
        "          w, h = draw.textsize(text)\n",
        "          draw.text(((20-w)/2,(20-h)/2), text, fill=\"white\")\n",
        "          canvas.paste(im, (1+col*21, 1+row*21))\n",
        "\n",
        "        elif brd[row][col] == 5:\n",
        "          im = Image.new(\"RGB\",(20,20),\"black\")\n",
        "          draw = ImageDraw.Draw(im)\n",
        "          canvas.paste(im, (1+col*21, 1+row*21))\n",
        "\n",
        "        elif brd[row][col] == 6:\n",
        "          im = Image.new(\"RGB\",(20,20),\"white\")\n",
        "          draw = ImageDraw.Draw(im)\n",
        "          canvas.paste(im, (1+col*21, 1+row*21))\n",
        "\n",
        "        elif brd[row][col] == 7:\n",
        "          im = Image.new(\"RGB\",(20,20),(255, 255, 150))\n",
        "          draw = ImageDraw.Draw(im)\n",
        "          draw.ellipse((5,5,15,15), fill=\"yellow\", outline=(0, 0, 0))\n",
        "          canvas.paste(im, (1+col*21, 1+row*21))\n",
        "        \n",
        "        else:\n",
        "          im = Image.new(\"RGB\",(20,20),(255, 255, 150))\n",
        "          draw = ImageDraw.Draw(im)\n",
        "          canvas.paste(im, (1+col*21, 1+row*21))\n",
        "\n",
        "  display(canvas)"
      ],
      "execution_count": null,
      "outputs": []
    },
    {
      "cell_type": "code",
      "metadata": {
        "id": "CCv_8mtMcc1M"
      },
      "source": [
        "def crawler(brd, start_positions, append_values, pass_values):\n",
        "  ''' Based on each start position checks the cross pattern, appends \n",
        "  values from apend_values list, passes over values from pass_values list\n",
        "  and breaks iteration over a cross arm if finds anything else.\n",
        "  Returns a list for each starting position \n",
        "  '''\n",
        "  \n",
        "  output = []\n",
        "  for i in start_positions:\n",
        "    position_output = []\n",
        "\n",
        "    step = 1\n",
        "    while (i[0]+step) < len(brd):\n",
        "      value = brd[i[0]+step][i[1]]\n",
        "      if value in append_values: position_output.append((i[0]+step,i[1]))\n",
        "      elif value in pass_values: pass\n",
        "      else: break\n",
        "      step += 1\n",
        "\n",
        "    step = 1\n",
        "    while (i[0]-step) >= 0:\n",
        "      value = brd[i[0]-step][i[1]]\n",
        "      if value in append_values: position_output.append((i[0]-step,i[1]))\n",
        "      elif value in pass_values: pass\n",
        "      else: break\n",
        "      step += 1\n",
        "\n",
        "    step = 1\n",
        "    while (i[1]+step) < len(brd[0]):\n",
        "      value = brd[i[0]][i[1]+step]\n",
        "      if value in append_values: position_output.append((i[0],i[1]+step))\n",
        "      elif value in pass_values: pass\n",
        "      else: break\n",
        "      step += 1\n",
        "\n",
        "    step = 1\n",
        "    while (i[1]-step) >= 0:\n",
        "      value = brd[i[0]][i[1]-step]\n",
        "      if value in append_values: position_output.append((i[0],i[1]-step))\n",
        "      elif value in pass_values: pass\n",
        "      else: break\n",
        "      step += 1\n",
        "\n",
        "    output.append(position_output)\n",
        "\n",
        "  return output"
      ],
      "execution_count": null,
      "outputs": []
    },
    {
      "cell_type": "code",
      "metadata": {
        "id": "XUrYcTz5u_YF"
      },
      "source": [
        "def crd_list(brd, nums):\n",
        "  ''' Returns array locations for each numbers from a list '''\n",
        "\n",
        "  output = []\n",
        "  for i in nums:\n",
        "    num = np.where(brd == i)\n",
        "    zipping = list(zip(num[0], num[1]))\n",
        "    output.extend(zipping)\n",
        "\n",
        "  return output"
      ],
      "execution_count": null,
      "outputs": []
    },
    {
      "cell_type": "code",
      "metadata": {
        "id": "lKQ1UxDr7b0f"
      },
      "source": [
        "def around(brd, crd):\n",
        "  ''' Returns spots around a single position crd == (x, y) \n",
        "  only within an array.\n",
        "  '''\n",
        "  \n",
        "  # Generate coordinates sub-list of spaces around target\n",
        "  all_positions = [[crd[0]-1, crd[1]], [crd[0], crd[1]-1], \n",
        "                   [crd[0]+1, crd[1]], [crd[0], crd[1]+1]]\n",
        "\n",
        "  # Remove possitions outside the array\n",
        "  output = []\n",
        "  for i in all_positions:\n",
        "    if (i[0] >= 0 and i[0] < len(brd[0]) and\n",
        "        i[1] >= 0 and i[1] < len(brd)):\n",
        "      output.append(i)\n",
        "\n",
        "  return output"
      ],
      "execution_count": null,
      "outputs": []
    },
    {
      "cell_type": "code",
      "metadata": {
        "id": "mVc0lkJTx1aA"
      },
      "source": [
        "def number_around(brd, number, crd_list):\n",
        "  ''' Returns only position of a specific number from a list of coordinates '''\n",
        "\n",
        "  output = []\n",
        "  for i in crd_list:\n",
        "    if brd[i[0]][i[1]] == number: output.append(i)\n",
        "  \n",
        "  return output"
      ],
      "execution_count": null,
      "outputs": []
    },
    {
      "cell_type": "code",
      "metadata": {
        "id": "-K1y1lIgywuj"
      },
      "source": [
        "def iterate(brd):\n",
        "  ''' Find a number with the least number of combinations around it \n",
        "  returns the location of the number and all of the combinations\n",
        "  '''\n",
        "\n",
        "  # Position of all of the numbers 0-4, output: [(1, 2), (2, 3)]\n",
        "  number_positions = crd_list(brd, [0, 1, 2, 3, 4])\n",
        "  \n",
        "  # Reiterate the list above to check which numbers they contain\n",
        "  numbers = []\n",
        "  for i in number_positions: \n",
        "    numbers.append(brd[i[0]][i[1]])\n",
        " \n",
        "  # Find empty positions '6' and number of dots '7' around a position\n",
        "  six_around, seven_around = [], []\n",
        "  for i in number_positions:\n",
        "    in_matrix = around(brd, i)\n",
        "    six_around.append(number_around(brd, 6, in_matrix))\n",
        "    seven_around.append(len(number_around(brd, 7, in_matrix)))\n",
        "\n",
        "  # Delete empty lists of completed numbers\n",
        "  while True:\n",
        "    if (len(min(six_around, key=len, default=[])) != 0 or \n",
        "        len(six_around) == 0): break\n",
        "    ind = six_around.index(min(six_around, key=len))\n",
        "    del (six_around[ind], seven_around[ind], \n",
        "         number_positions[ind], numbers[ind])\n",
        "\n",
        "  # After all numbers (0,1,2,3,4) are completed start with blocked '9' \n",
        "  if len(six_around) == 0 and len(crd_list(brd, [9])) != 0:\n",
        "    remaining_9_pos = crd_list(brd, [9])\n",
        "    comb_for_9 = crawler(brd, remaining_9_pos, [6], [8, 9])\n",
        "    shortest = comb_for_9.index(min(comb_for_9, key=len))\n",
        "    return ([], [comb_for_9[shortest]])\n",
        "\n",
        "\n",
        "  # After all numbers and blocked positions \n",
        "  # are completed find remaining empty spots\n",
        "  if len(six_around) == 0 and len(crd_list(brd, [9])) == 0:\n",
        "    remaining_6_pos = crd_list(brd, [6])\n",
        "    out_comb = []\n",
        "    for i in remaining_6_pos: out_comb.append([i])\n",
        "    return ([], out_comb)\n",
        "\n",
        "  # Create all of the combinations for each number\n",
        "  comb = []\n",
        "  for i in range(len(six_around)):\n",
        "    number = brd[number_positions[i][0]][number_positions[i][1]]\n",
        "    dots = seven_around[i]\n",
        "    comb.append(list(combinations(six_around[i], (number - dots))))\n",
        "  shortest = comb.index(min(comb, key=len))\n",
        "\n",
        "  return (number_positions[shortest], comb[shortest])"
      ],
      "execution_count": null,
      "outputs": []
    },
    {
      "cell_type": "code",
      "metadata": {
        "id": "6rE1McmfJMWt"
      },
      "source": [
        "def colour(brd, position, comb):\n",
        "  ''' adds dots, shade and locks on the board input: board, \n",
        "  position of the POI and combination of dots '7' around it\n",
        "  '''\n",
        "\n",
        "  board = copy.deepcopy(brd)\n",
        "\n",
        "  # Enter the selected dot combination\n",
        "  for i in comb: board[i[0]][i[1]] = 7\n",
        "  \n",
        "  # Shade positions radiating from dots\n",
        "  shade_positions = crawler(board, comb, [6, 9], [8])\n",
        "  for pos in shade_positions: \n",
        "    for i in pos: board[i[0]][i[1]] = 8\n",
        "\n",
        "  # Block all remaining empty positions around a number\n",
        "  if len(position) != 0:\n",
        "    all_around = around(board, position)\n",
        "    remaining_empty = number_around(board, 6, all_around)\n",
        "    for i in remaining_empty: board[i[0]][i[1]] = 9\n",
        "\n",
        "  return board"
      ],
      "execution_count": null,
      "outputs": []
    },
    {
      "cell_type": "code",
      "metadata": {
        "id": "1tvuqrOxcZOV"
      },
      "source": [
        "def verify(brd):\n",
        "  ''' Verify that the current state of the board is correct '''\n",
        "\n",
        "  # Check if each number has solvable number number or dots/empty around \n",
        "  number_positions = crd_list(brd, [0, 1, 2, 3, 4])\n",
        " \n",
        "  for position in number_positions:\n",
        "    space_around = around(brd, position)\n",
        "    six = len(number_around(brd, 6, space_around))\n",
        "    seven = len(number_around(brd, 7, space_around))\n",
        "    number = brd[position[0]][position[1]]\n",
        "\n",
        "    if seven > number or (six + seven) < number: \n",
        "      return False\n",
        "\n",
        "  # Check if all of the blocked spots '9' has empty spot in view\n",
        "  number_positions_9 = crd_list(brd, [9])\n",
        "  check_9 = crawler(brd, number_positions_9, [6], [8, 9])\n",
        "  for i in check_9:\n",
        "    if len(i) == 0: return False\n",
        "\n",
        "  return True"
      ],
      "execution_count": null,
      "outputs": []
    },
    {
      "cell_type": "code",
      "metadata": {
        "id": "TH2auyd9KKQx"
      },
      "source": [
        "def solve(brd):\n",
        "  ''' Main function solving the puzzle'''\n",
        "\n",
        "  # Check if the board is completed\n",
        "  if len(crd_list(brd, [6, 9])) == 0: \n",
        "    paint_result(brd)\n",
        "    return True\n",
        "\n",
        "  board = copy.deepcopy(brd)\n",
        "  position, comb = iterate(board)\n",
        "\n",
        "  for i in comb:\n",
        "    new_board = colour(board, position, i)\n",
        "    if verify(new_board):\n",
        "      if solve(new_board): return True\n",
        "\n",
        "  return False"
      ],
      "execution_count": null,
      "outputs": []
    },
    {
      "cell_type": "code",
      "metadata": {
        "colab": {
          "base_uri": "https://localhost:8080/",
          "height": 392
        },
        "id": "S0xK3mTJkdYA",
        "outputId": "a1a91409-f460-41c5-d514-620132542b01"
      },
      "source": [
        "solve(example)"
      ],
      "execution_count": null,
      "outputs": [
        {
          "output_type": "display_data",
          "data": {
            "image/png": "[encoded data removed]",
            "text/plain": [
              "<PIL.Image.Image image mode=RGB size=358x358 at 0x7FB811BFAE10>"
            ]
          },
          "metadata": {
            "tags": []
          }
        },
        {
          "output_type": "execute_result",
          "data": {
            "text/plain": [
              "True"
            ]
          },
          "metadata": {
            "tags": []
          },
          "execution_count": 12
        }
      ]
    }
  ]
}